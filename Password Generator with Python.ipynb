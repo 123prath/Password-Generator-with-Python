{
 "cells": [
  {
   "cell_type": "code",
   "execution_count": 1,
   "id": "bc561782",
   "metadata": {},
   "outputs": [],
   "source": [
    "import random\n",
    "characters = \"abcdefghijklmnopqrstuvwxyzABCDEFGHIJKLMNOPQRSTUVWXYZ!@#$%&amp;*1234567890\""
   ]
  },
  {
   "cell_type": "code",
   "execution_count": 2,
   "id": "f5184061",
   "metadata": {},
   "outputs": [
    {
     "name": "stdout",
     "output_type": "stream",
     "text": [
      "Enter Password length12\n"
     ]
    }
   ],
   "source": [
    "#Setting the length of password\n",
    "length = int(input(\"Enter Password length:\"))\n",
    "password = \"\""
   ]
  },
  {
   "cell_type": "markdown",
   "id": "6e637822",
   "metadata": {},
   "source": [
    "Now, let’s run a loop to execute the code:"
   ]
  },
  {
   "cell_type": "code",
   "execution_count": 3,
   "id": "c8eddfa2",
   "metadata": {},
   "outputs": [
    {
     "name": "stdout",
     "output_type": "stream",
     "text": [
      "q3x$JiWZ0DNip\n"
     ]
    }
   ],
   "source": [
    "for i in range(length+1):\n",
    "    password += random.choice(characters)\n",
    "print(password)"
   ]
  },
  {
   "cell_type": "code",
   "execution_count": null,
   "id": "92b3e0dc",
   "metadata": {},
   "outputs": [],
   "source": []
  }
 ],
 "metadata": {
  "kernelspec": {
   "display_name": "Python 3",
   "language": "python",
   "name": "python3"
  },
  "language_info": {
   "codemirror_mode": {
    "name": "ipython",
    "version": 3
   },
   "file_extension": ".py",
   "mimetype": "text/x-python",
   "name": "python",
   "nbconvert_exporter": "python",
   "pygments_lexer": "ipython3",
   "version": "3.8.8"
  }
 },
 "nbformat": 4,
 "nbformat_minor": 5
}
